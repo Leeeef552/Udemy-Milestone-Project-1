{
 "cells": [
  {
   "cell_type": "code",
   "execution_count": 2,
   "id": "020617db",
   "metadata": {},
   "outputs": [],
   "source": [
    "from IPython.display import clear_output\n",
    "clear_output()"
   ]
  },
  {
   "cell_type": "code",
   "execution_count": 3,
   "id": "5ad8e202",
   "metadata": {},
   "outputs": [],
   "source": [
    "def player_XorO():\n",
    "    global player1\n",
    "    global player2\n",
    "    player1 = ''\n",
    "    player2 = ''\n",
    "    print('Welcome to Tic Tac Toe!')\n",
    "    while player1 not in ['X','O']:\n",
    "        player1 = input(\"Player 1: Do you want to be X or O: \")\n",
    "        if isinstance(player1, str) != True or player1.upper() not in ['X','O']:\n",
    "            print(\"Oops! Something went wrong, please only choose X or O\")\n",
    "        if player1.upper() == 'X':\n",
    "            player2 = 'O'\n",
    "            player1 = 'X'\n",
    "        elif player1.upper() == 'O':\n",
    "            player2 = 'X'\n",
    "            player1 = 'O'\n",
    "    print(f\"Player 1 will be {player1}! Player 1 will go first\")"
   ]
  },
  {
   "cell_type": "code",
   "execution_count": 4,
   "id": "72619029",
   "metadata": {},
   "outputs": [],
   "source": [
    "placeholder = ['#',' ',' ',' ',' ',' ',' ',' ',' ',' ']\n",
    "def board():\n",
    "    print(f'   {placeholder[7]} | {placeholder[8]} | {placeholder[9]}   ')\n",
    "    print( '---------------')\n",
    "    print(f'   {placeholder[4]} | {placeholder[5]} | {placeholder[6]}   ')\n",
    "    print( '----------------')\n",
    "    print(f'   {placeholder[1]} | {placeholder[2]} | {placeholder[3]}   ')"
   ]
  },
  {
   "cell_type": "code",
   "execution_count": 5,
   "id": "e430dbe2",
   "metadata": {},
   "outputs": [],
   "source": [
    "def win_check1():\n",
    "    global game_on \n",
    "    global turn_engine\n",
    "    if ( (placeholder[1]== placeholder[2] == placeholder[3] == 'X')\n",
    "    or (placeholder[4] == placeholder[5] == placeholder[6] == 'X') \n",
    "    or (placeholder[7] == placeholder[8] == placeholder[9] == 'X') \n",
    "    or (placeholder[7] == placeholder[4] == placeholder[1] == 'X') \n",
    "    or (placeholder[8] == placeholder[5] == placeholder[2] == 'X') \n",
    "    or (placeholder[9] == placeholder[6] == placeholder[3] == 'X') \n",
    "    or (placeholder[7] == placeholder[5] == placeholder[3] == 'X') \n",
    "    or (placeholder[1] == placeholder[5] == placeholder[9] == 'X') \n",
    "    or (placeholder[1] == placeholder[2] == placeholder[3] == 'O') \n",
    "    or (placeholder[4] == placeholder[5] == placeholder[6] == 'O') \n",
    "    or (placeholder[7] == placeholder[8] == placeholder[9] == 'O') \n",
    "    or (placeholder[7] == placeholder[4] == placeholder[1] == 'O') \n",
    "    or (placeholder[8] == placeholder[5] == placeholder[2] == 'O') \n",
    "    or (placeholder[9] == placeholder[6] == placeholder[3] == 'O') \n",
    "    or (placeholder[7] == placeholder[5] == placeholder[3] == 'O') \n",
    "    or (placeholder[1] == placeholder[5] == placeholder[9] == 'O') ): \n",
    "        print(\"Game Over! Congratulations Player 1 is the winner!\")\n",
    "        game_on = False\n",
    "        turn_engine = ''\n",
    "    elif ' ' not in placeholder:\n",
    "        print(\"Game Over! It's a draw\")\n",
    "        game_on = False\n",
    "        turn_engine = ''"
   ]
  },
  {
   "cell_type": "code",
   "execution_count": 6,
   "id": "942157e6",
   "metadata": {},
   "outputs": [],
   "source": [
    "def win_check2():\n",
    "    global game_on \n",
    "    global turn_engine\n",
    "    if ( (placeholder[1]== placeholder[2] == placeholder[3] == 'X')\n",
    "    or (placeholder[4] == placeholder[5] == placeholder[6] == 'X') \n",
    "    or (placeholder[7] == placeholder[8] == placeholder[9] == 'X') \n",
    "    or (placeholder[7] == placeholder[4] == placeholder[1] == 'X') \n",
    "    or (placeholder[8] == placeholder[5] == placeholder[2] == 'X') \n",
    "    or (placeholder[9] == placeholder[6] == placeholder[3] == 'X') \n",
    "    or (placeholder[7] == placeholder[5] == placeholder[3] == 'X') \n",
    "    or (placeholder[1] == placeholder[5] == placeholder[9] == 'X') \n",
    "    or (placeholder[1] == placeholder[2] == placeholder[3] == 'O') \n",
    "    or (placeholder[4] == placeholder[5] == placeholder[6] == 'O') \n",
    "    or (placeholder[7] == placeholder[8] == placeholder[9] == 'O') \n",
    "    or (placeholder[7] == placeholder[4] == placeholder[1] == 'O') \n",
    "    or (placeholder[8] == placeholder[5] == placeholder[2] == 'O') \n",
    "    or (placeholder[9] == placeholder[6] == placeholder[3] == 'O') \n",
    "    or (placeholder[7] == placeholder[5] == placeholder[3] == 'O') \n",
    "    or (placeholder[1] == placeholder[5] == placeholder[9] == 'O') ): \n",
    "        print(\"Game Over! Congratulations Player 2 is the winner!\")\n",
    "        game_on = False\n",
    "        turn_engine = ''\n",
    "    elif ' ' not in placeholder:\n",
    "        print(\"Game Over! It's a draw\")\n",
    "        game_on = False\n",
    "        turn_engine = ''"
   ]
  },
  {
   "cell_type": "code",
   "execution_count": 7,
   "id": "70d9040a",
   "metadata": {},
   "outputs": [],
   "source": [
    "def game_engine1():\n",
    "    global player1\n",
    "    global turn_engine\n",
    "    global placeholder\n",
    "    player_position = ''\n",
    "    success = False\n",
    "    while success == False:\n",
    "        player_position = input(\"Player 1! Choose your position: (1-9): \")\n",
    "        if player_position.isdigit():\n",
    "            if int(player_position) in range(1, 10):\n",
    "                if placeholder[int(player_position)] == ' ':\n",
    "                    success = True\n",
    "                else:\n",
    "                    print('Oops, that position is filled! Please choose a number from 1-9 to choose your position')\n",
    "            else:\n",
    "                print('Oops, you picked an invalid number! Please choose a number from 1-9 to choose your position')\n",
    "        else:\n",
    "            print('Oops, you did not pick a number! Please choose a number from 1-9 to choose your position')\n",
    "    placeholder[int(player_position)] = player1\n",
    "    turn_engine = True"
   ]
  },
  {
   "cell_type": "code",
   "execution_count": 8,
   "id": "336674f6",
   "metadata": {},
   "outputs": [],
   "source": [
    "def game_engine2():\n",
    "    global player2\n",
    "    global turn_engine\n",
    "    global placeholder\n",
    "    player_position = ''\n",
    "    success = False\n",
    "    while success == False:\n",
    "        player_position = input(\"Player 2! Choose your position: (1-9): \")\n",
    "        if player_position.isdigit():\n",
    "            if int(player_position) in range(1, 10):\n",
    "                if placeholder[int(player_position)] == ' ':\n",
    "                    success = True\n",
    "                else:\n",
    "                    print('Oops, that position is filled! Please choose a number from 1-9 to choose your position')\n",
    "            else:\n",
    "                print('Oops, you picked an invalid number! Please choose a number from 1-9 to choose your position')\n",
    "        else:\n",
    "            print('Oops, you did not pick a number! Please choose a number from 1-9 to choose your position')\n",
    "    placeholder[int(player_position)] = player2\n",
    "    turn_engine = False"
   ]
  },
  {
   "cell_type": "code",
   "execution_count": 9,
   "id": "d09b29fd",
   "metadata": {},
   "outputs": [],
   "source": [
    "def replay():\n",
    "    global game\n",
    "    global placeholder\n",
    "    ask = ''\n",
    "    success = True\n",
    "    while success:\n",
    "        ask = input(\"Do you want to play again? Yes or No?: \")\n",
    "        if ask.upper() not in ['YES','NO']:\n",
    "            print(\"Please only choose only Yes or No\")\n",
    "        else:\n",
    "            if ask.upper() == 'YES':\n",
    "                placeholder = ['#',' ',' ',' ',' ',' ',' ',' ',' ',' ']\n",
    "                success = False\n",
    "                clear_output()\n",
    "            elif ask.upper() == 'NO':\n",
    "                success = False\n",
    "                game = False"
   ]
  },
  {
   "cell_type": "code",
   "execution_count": 10,
   "id": "1c27144b",
   "metadata": {},
   "outputs": [
    {
     "name": "stdout",
     "output_type": "stream",
     "text": [
      "     | O | X   \n",
      "---------------\n",
      "     | O | X   \n",
      "----------------\n",
      "     |   | X   \n",
      "Game Over! Congratulations Player 1 is the winner!\n",
      "Do you want to play again? Yes or No?: No\n"
     ]
    }
   ],
   "source": [
    "placeholder = ['#',' ',' ',' ',' ',' ',' ',' ',' ',' ']\n",
    "game = True\n",
    "\n",
    "while game == True:\n",
    "    turn_engine = False # the condition for player1/player2 move\n",
    "    game_on = True # the continue game condition\n",
    "    player_position = ''\n",
    "    player_XorO()#sets the symbol X or O for player1 and 2\n",
    "    board()#prints the board\n",
    "    while game_on == True:\n",
    "        while turn_engine == False:\n",
    "            game_engine1() #fills and prints the new board after each turn (for player 1)\n",
    "            clear_output()\n",
    "            board()\n",
    "            win_check1() # to check if the board has any rows filled\n",
    "            break\n",
    "        while turn_engine == True:\n",
    "            game_engine2() #fills and prints the new board after each turn (for player 2)\n",
    "            clear_output()\n",
    "            board() \n",
    "            win_check2() #to check if the board has any rows filled\n",
    "            break\n",
    "    replay() #replay option//closes the"
   ]
  },
  {
   "cell_type": "code",
   "execution_count": null,
   "id": "dcb0b22e",
   "metadata": {},
   "outputs": [],
   "source": []
  },
  {
   "cell_type": "code",
   "execution_count": null,
   "id": "bfe9f910",
   "metadata": {},
   "outputs": [],
   "source": [
    "\n",
    "            "
   ]
  },
  {
   "cell_type": "code",
   "execution_count": null,
   "id": "ae88ee8a",
   "metadata": {},
   "outputs": [],
   "source": []
  },
  {
   "cell_type": "code",
   "execution_count": 119,
   "id": "7ca40c33",
   "metadata": {},
   "outputs": [],
   "source": [
    "        "
   ]
  }
 ],
 "metadata": {
  "kernelspec": {
   "display_name": "Python 3 (ipykernel)",
   "language": "python",
   "name": "python3"
  },
  "language_info": {
   "codemirror_mode": {
    "name": "ipython",
    "version": 3
   },
   "file_extension": ".py",
   "mimetype": "text/x-python",
   "name": "python",
   "nbconvert_exporter": "python",
   "pygments_lexer": "ipython3",
   "version": "3.9.7"
  }
 },
 "nbformat": 4,
 "nbformat_minor": 5
}
